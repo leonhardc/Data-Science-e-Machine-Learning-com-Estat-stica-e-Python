{
 "cells": [
  {
   "cell_type": "markdown",
   "metadata": {},
   "source": [
    "### O que é um histograma?"
   ]
  },
  {
   "cell_type": "code",
   "execution_count": 1,
   "metadata": {},
   "outputs": [],
   "source": [
    "import pandas as pd\n",
    "import matplotlib.pyplot as plt"
   ]
  },
  {
   "cell_type": "code",
   "execution_count": 5,
   "metadata": {},
   "outputs": [],
   "source": [
    "km = pd.Series([4, 6, 6, 7, 11, 13, 18, 18, 21, 24, 26, 27, 35, 36, 36, 42, 43, 45, 49])"
   ]
  },
  {
   "cell_type": "code",
   "execution_count": 22,
   "metadata": {},
   "outputs": [],
   "source": [
    "def calcula_ticks(lista, barras):\n",
    "    \n",
    "    # lista[-1] --> Ultimo Valor da lista\n",
    "    # lista[0] --> Primeiro Valor da lista\n",
    "    # intervalo = (ult_val - pri_val)/barras\n",
    "    lista.sort()\n",
    "    intervalo = (lista[-1] - lista[0])/barras\n",
    "    \n",
    "    primeiro = lista[0]\n",
    "    ultimo = primeiro + intervalo\n",
    "    ticks = [primeiro, ultimo]\n",
    "    \n",
    "    for x in range(barras-1):\n",
    "        ultimo += intervalo\n",
    "        ticks.append(ultimo)\n",
    "    \n",
    "    return ticks"
   ]
  },
  {
   "cell_type": "code",
   "execution_count": 36,
   "metadata": {},
   "outputs": [],
   "source": [
    "# Calculo da frequencia relativa\n",
    "def freq_relativa(total, yticks):\n",
    "    f_rel = []\n",
    "    \n",
    "    for item in yticks:\n",
    "        aux = item/total\n",
    "        f_rel.append(\"{0:.2f}%\".format(aux*100)) # convertendo para valor\n",
    "                                                   # textual com duas casas \n",
    "                                                   # decimais\n",
    "    return f_rel"
   ]
  },
  {
   "cell_type": "code",
   "execution_count": 39,
   "metadata": {},
   "outputs": [
    {
     "name": "stderr",
     "output_type": "stream",
     "text": [
      "C:\\Users\\Leonardo\\AppData\\Local\\Temp/ipykernel_2712/3201994061.py:10: UserWarning: FixedFormatter should only be used together with FixedLocator\n",
      "  ax.set_yticklabels(freq_rel)\n"
     ]
    },
    {
     "data": {
      "image/png": "[encoded data removed]",
      "text/plain": [
       "<Figure size 432x288 with 1 Axes>"
      ]
     },
     "metadata": {
      "needs_background": "light"
     },
     "output_type": "display_data"
    }
   ],
   "source": [
    "# plotar o histograma\n",
    "barras = 6 # quantidade de barras no histograma\n",
    "lista = km.values\n",
    "\n",
    "ticks = calcula_ticks(lista, barras) # ajustando o intervalo do eixo x\n",
    "ax = km.plot.hist(bins=barras, rwidth=0.98) # plotando o histograma\n",
    "# calcula a frequencia relativa\n",
    "y_ticks = ax.get_yticks()\n",
    "freq_rel = freq_relativa(len(lista), y_ticks)\n",
    "ax.set_yticklabels(freq_rel) # Substituindo as y_labels pela frequencia relativa \n",
    "\n",
    "# Ajustes no layout do histograma\n",
    "plt.title(\"Distância de Casa para o Trabalho\")\n",
    "plt.xticks(ticks) # sobrescrevendo os rótulos do eixo x\n",
    "plt.xlabel(\"Km\")\n",
    "plt.ylabel(\"Frequencia\")\n",
    "plt.grid(axis=\"y\") # Colocar uma grid (Grade)\n",
    "plt.show()"
   ]
  },
  {
   "cell_type": "markdown",
   "metadata": {},
   "source": [
    "### Frequência relativa"
   ]
  },
  {
   "cell_type": "markdown",
   "metadata": {},
   "source": [
    "Frequencia relativa quer dizer basicamente o percentual de representatividade\n",
    "de cada uma das colunas."
   ]
  },
  {
   "cell_type": "code",
   "execution_count": 26,
   "metadata": {},
   "outputs": [
    {
     "name": "stdout",
     "output_type": "stream",
     "text": [
      "Frequencia Relativa 1: 26.32 %\n"
     ]
    }
   ],
   "source": [
    "# Para se obter a frequencia relativa basta pegar o valor associado a frequencia\n",
    "# de cada coluna e dividir pelo total de valores.\n",
    "\n",
    "# Por exemplo, a frequencia relativa referente à primeira coluna é:\n",
    "freq_rel_1 = (5/len(lista))* 100\n",
    "print(f'Frequencia Relativa 1: {freq_rel_1:.2f} %')"
   ]
  },
  {
   "cell_type": "code",
   "execution_count": 38,
   "metadata": {},
   "outputs": [
    {
     "data": {
      "text/plain": [
       "['0.00%', '5.26%', '10.53%', '15.79%', '21.05%', '26.32%', '31.58%']"
      ]
     },
     "execution_count": 38,
     "metadata": {},
     "output_type": "execute_result"
    }
   ],
   "source": [
    "freq_rel"
   ]
  },
  {
   "cell_type": "code",
   "execution_count": null,
   "metadata": {},
   "outputs": [],
   "source": []
  }
 ],
 "metadata": {
  "kernelspec": {
   "display_name": "Python 3 (ipykernel)",
   "language": "python",
   "name": "python3"
  },
  "language_info": {
   "codemirror_mode": {
    "name": "ipython",
    "version": 3
   },
   "file_extension": ".py",
   "mimetype": "text/x-python",
   "name": "python",
   "nbconvert_exporter": "python",
   "pygments_lexer": "ipython3",
   "version": "3.9.7"
  }
 },
 "nbformat": 4,
 "nbformat_minor": 2
}
