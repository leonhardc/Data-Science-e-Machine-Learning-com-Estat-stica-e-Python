{
 "cells": [
  {
   "cell_type": "markdown",
   "metadata": {},
   "source": [
    "### O que é um histograma?"
   ]
  },
  {
   "cell_type": "code",
   "execution_count": 1,
   "metadata": {},
   "outputs": [],
   "source": [
    "import pandas as pd\n",
    "import matplotlib.pyplot as plt"
   ]
  },
  {
   "cell_type": "code",
   "execution_count": 5,
   "metadata": {},
   "outputs": [],
   "source": [
    "km = pd.Series([4, 6, 6, 7, 11, 13, 18, 18, 21, 24, 26, 27, 35, 36, 36, 42, 43, 45, 49])"
   ]
  },
  {
   "cell_type": "code",
   "execution_count": 22,
   "metadata": {},
   "outputs": [],
   "source": [
    "def calcula_ticks(lista, barras):\n",
    "    \n",
    "    # lista[-1] --> Ultimo Valor da lista\n",
    "    # lista[0] --> Primeiro Valor da lista\n",
    "    # intervalo = (ult_val - pri_val)/barras\n",
    "    lista.sort()\n",
    "    intervalo = (lista[-1] - lista[0])/barras\n",
    "    \n",
    "    primeiro = lista[0]\n",
    "    ultimo = primeiro + intervalo\n",
    "    ticks = [primeiro, ultimo]\n",
    "    \n",
    "    for x in range(barras-1):\n",
    "        ultimo += intervalo\n",
    "        ticks.append(ultimo)\n",
    "    \n",
    "    return ticks"
   ]
  },
  {
   "cell_type": "code",
   "execution_count": 36,
   "metadata": {},
   "outputs": [],
   "source": [
    "# Calculo da frequencia relativa\n",
    "def freq_relativa(total, yticks):\n",
    "    f_rel = []\n",
    "    \n",
    "    for item in yticks:\n",
    "        aux = item/total\n",
    "        f_rel.append(\"{0:.2f}%\".format(aux*100)) # convertendo para valor\n",
    "                                                   # textual com duas casas \n",
    "                                                   # decimais\n",
    "    return f_rel"
   ]
  },
  {
   "cell_type": "code",
   "execution_count": 59,
   "metadata": {},
   "outputs": [],
   "source": [
    "def gera_histograma(data_series, barras, titulo, unidade):\n",
    "\n",
    "    # plotar o histograma\n",
    "    # barras --> quantidade de barras no histograma\n",
    "    lista = data_series.values\n",
    "\n",
    "    ticks = calcula_ticks(lista, barras) # ajustando o intervalo do eixo x\n",
    "    ax = data_series.plot.hist(bins=barras, rwidth=0.98) # plotando o histograma\n",
    "\n",
    "    # calcula a frequencia relativa\n",
    "    y_ticks = ax.get_yticks()\n",
    "    freq_rel = freq_relativa(len(lista), y_ticks)\n",
    "    ax.set_yticklabels(freq_rel) # Substituindo as y_labels pela frequencia relativa \n",
    "\n",
    "    # configurar o tamanho da figura\n",
    "    fig = plt.gcf()\n",
    "    fig.set_size_inches(10,5)\n",
    "    fig.set_dpi(150)\n",
    "    \n",
    "    # Ajustes no layout do histograma\n",
    "    plt.title(titulo)\n",
    "    plt.xticks(ticks) # sobrescrevendo os rótulos do eixo x\n",
    "    plt.xlabel(unidade)\n",
    "    plt.ylabel(\"Frequencia\")\n",
    "    plt.grid(axis=\"y\") # Colocar uma grid (Grade)\n",
    "    plt.show()\n",
    "    \n"
   ]
  },
  {
   "cell_type": "code",
   "execution_count": 43,
   "metadata": {},
   "outputs": [
    {
     "name": "stderr",
     "output_type": "stream",
     "text": [
      "C:\\Users\\Leonardo\\AppData\\Local\\Temp/ipykernel_2712/9946490.py:13: UserWarning: FixedFormatter should only be used together with FixedLocator\n",
      "  ax.set_yticklabels(freq_rel) # Substituindo as y_labels pela frequencia relativa\n"
     ]
    },
    {
     "data": {
      "image/png": "[encoded data removed]",
      "text/plain": [
       "<Figure size 432x288 with 1 Axes>"
      ]
     },
     "metadata": {
      "needs_background": "light"
     },
     "output_type": "display_data"
    }
   ],
   "source": [
    "gera_histograma(km, 6, \"Distância\", \"Km\")"
   ]
  },
  {
   "cell_type": "markdown",
   "metadata": {},
   "source": [
    "### Frequência relativa"
   ]
  },
  {
   "cell_type": "markdown",
   "metadata": {},
   "source": [
    "Frequencia relativa quer dizer basicamente o percentual de representatividade\n",
    "de cada uma das colunas."
   ]
  },
  {
   "cell_type": "code",
   "execution_count": 26,
   "metadata": {},
   "outputs": [
    {
     "name": "stdout",
     "output_type": "stream",
     "text": [
      "Frequencia Relativa 1: 26.32 %\n"
     ]
    }
   ],
   "source": [
    "# Para se obter a frequencia relativa basta pegar o valor associado a frequencia\n",
    "# de cada coluna e dividir pelo total de valores.\n",
    "\n",
    "# Por exemplo, a frequencia relativa referente à primeira coluna é:\n",
    "freq_rel_1 = (5/len(lista))* 100\n",
    "print(f'Frequencia Relativa 1: {freq_rel_1:.2f} %')"
   ]
  },
  {
   "cell_type": "code",
   "execution_count": 38,
   "metadata": {},
   "outputs": [
    {
     "data": {
      "text/plain": [
       "['0.00%', '5.26%', '10.53%', '15.79%', '21.05%', '26.32%', '31.58%']"
      ]
     },
     "execution_count": 38,
     "metadata": {},
     "output_type": "execute_result"
    }
   ],
   "source": [
    "freq_rel"
   ]
  },
  {
   "cell_type": "markdown",
   "metadata": {},
   "source": [
    "### Medidas de Dispersão"
   ]
  },
  {
   "cell_type": "code",
   "execution_count": 44,
   "metadata": {},
   "outputs": [],
   "source": [
    "import pandas as pd"
   ]
  },
  {
   "cell_type": "code",
   "execution_count": 45,
   "metadata": {},
   "outputs": [],
   "source": [
    "data = pd.read_csv(\"weight-height.csv\")"
   ]
  },
  {
   "cell_type": "code",
   "execution_count": 46,
   "metadata": {},
   "outputs": [
    {
     "data": {
      "text/html": [
       "<div>\n",
       "<style scoped>\n",
       "    .dataframe tbody tr th:only-of-type {\n",
       "        vertical-align: middle;\n",
       "    }\n",
       "\n",
       "    .dataframe tbody tr th {\n",
       "        vertical-align: top;\n",
       "    }\n",
       "\n",
       "    .dataframe thead th {\n",
       "        text-align: right;\n",
       "    }\n",
       "</style>\n",
       "<table border=\"1\" class=\"dataframe\">\n",
       "  <thead>\n",
       "    <tr style=\"text-align: right;\">\n",
       "      <th></th>\n",
       "      <th>Gender</th>\n",
       "      <th>Height</th>\n",
       "      <th>Weight</th>\n",
       "    </tr>\n",
       "  </thead>\n",
       "  <tbody>\n",
       "    <tr>\n",
       "      <th>0</th>\n",
       "      <td>Male</td>\n",
       "      <td>73.847017</td>\n",
       "      <td>241.893563</td>\n",
       "    </tr>\n",
       "    <tr>\n",
       "      <th>1</th>\n",
       "      <td>Male</td>\n",
       "      <td>68.781904</td>\n",
       "      <td>162.310473</td>\n",
       "    </tr>\n",
       "    <tr>\n",
       "      <th>2</th>\n",
       "      <td>Male</td>\n",
       "      <td>74.110105</td>\n",
       "      <td>212.740856</td>\n",
       "    </tr>\n",
       "    <tr>\n",
       "      <th>3</th>\n",
       "      <td>Male</td>\n",
       "      <td>71.730978</td>\n",
       "      <td>220.042470</td>\n",
       "    </tr>\n",
       "    <tr>\n",
       "      <th>4</th>\n",
       "      <td>Male</td>\n",
       "      <td>69.881796</td>\n",
       "      <td>206.349801</td>\n",
       "    </tr>\n",
       "  </tbody>\n",
       "</table>\n",
       "</div>"
      ],
      "text/plain": [
       "  Gender     Height      Weight\n",
       "0   Male  73.847017  241.893563\n",
       "1   Male  68.781904  162.310473\n",
       "2   Male  74.110105  212.740856\n",
       "3   Male  71.730978  220.042470\n",
       "4   Male  69.881796  206.349801"
      ]
     },
     "execution_count": 46,
     "metadata": {},
     "output_type": "execute_result"
    }
   ],
   "source": [
    "# Altura provavelmente está em polegadas\n",
    "# Para transformar polegadas em centimetros basta multiplicar por 2.54\n",
    "data.head() #"
   ]
  },
  {
   "cell_type": "code",
   "execution_count": 47,
   "metadata": {},
   "outputs": [],
   "source": [
    "data[\"Altura_cm\"] = data[\"Height\"]*2.54"
   ]
  },
  {
   "cell_type": "code",
   "execution_count": 48,
   "metadata": {},
   "outputs": [
    {
     "data": {
      "text/html": [
       "<div>\n",
       "<style scoped>\n",
       "    .dataframe tbody tr th:only-of-type {\n",
       "        vertical-align: middle;\n",
       "    }\n",
       "\n",
       "    .dataframe tbody tr th {\n",
       "        vertical-align: top;\n",
       "    }\n",
       "\n",
       "    .dataframe thead th {\n",
       "        text-align: right;\n",
       "    }\n",
       "</style>\n",
       "<table border=\"1\" class=\"dataframe\">\n",
       "  <thead>\n",
       "    <tr style=\"text-align: right;\">\n",
       "      <th></th>\n",
       "      <th>Gender</th>\n",
       "      <th>Height</th>\n",
       "      <th>Weight</th>\n",
       "      <th>Altura_cm</th>\n",
       "    </tr>\n",
       "  </thead>\n",
       "  <tbody>\n",
       "    <tr>\n",
       "      <th>0</th>\n",
       "      <td>Male</td>\n",
       "      <td>73.847017</td>\n",
       "      <td>241.893563</td>\n",
       "      <td>187.571423</td>\n",
       "    </tr>\n",
       "    <tr>\n",
       "      <th>1</th>\n",
       "      <td>Male</td>\n",
       "      <td>68.781904</td>\n",
       "      <td>162.310473</td>\n",
       "      <td>174.706036</td>\n",
       "    </tr>\n",
       "    <tr>\n",
       "      <th>2</th>\n",
       "      <td>Male</td>\n",
       "      <td>74.110105</td>\n",
       "      <td>212.740856</td>\n",
       "      <td>188.239668</td>\n",
       "    </tr>\n",
       "    <tr>\n",
       "      <th>3</th>\n",
       "      <td>Male</td>\n",
       "      <td>71.730978</td>\n",
       "      <td>220.042470</td>\n",
       "      <td>182.196685</td>\n",
       "    </tr>\n",
       "    <tr>\n",
       "      <th>4</th>\n",
       "      <td>Male</td>\n",
       "      <td>69.881796</td>\n",
       "      <td>206.349801</td>\n",
       "      <td>177.499761</td>\n",
       "    </tr>\n",
       "  </tbody>\n",
       "</table>\n",
       "</div>"
      ],
      "text/plain": [
       "  Gender     Height      Weight   Altura_cm\n",
       "0   Male  73.847017  241.893563  187.571423\n",
       "1   Male  68.781904  162.310473  174.706036\n",
       "2   Male  74.110105  212.740856  188.239668\n",
       "3   Male  71.730978  220.042470  182.196685\n",
       "4   Male  69.881796  206.349801  177.499761"
      ]
     },
     "execution_count": 48,
     "metadata": {},
     "output_type": "execute_result"
    }
   ],
   "source": [
    "data.head()"
   ]
  },
  {
   "cell_type": "code",
   "execution_count": 51,
   "metadata": {},
   "outputs": [],
   "source": [
    "# arredondar a altura, para podermos calcular a moda de maneira mais interessante\n",
    "data[\"Altura_cm\"] = data[\"Altura_cm\"].round(0) # arredondar para 0 casas decimais"
   ]
  },
  {
   "cell_type": "code",
   "execution_count": 52,
   "metadata": {},
   "outputs": [
    {
     "data": {
      "text/html": [
       "<div>\n",
       "<style scoped>\n",
       "    .dataframe tbody tr th:only-of-type {\n",
       "        vertical-align: middle;\n",
       "    }\n",
       "\n",
       "    .dataframe tbody tr th {\n",
       "        vertical-align: top;\n",
       "    }\n",
       "\n",
       "    .dataframe thead th {\n",
       "        text-align: right;\n",
       "    }\n",
       "</style>\n",
       "<table border=\"1\" class=\"dataframe\">\n",
       "  <thead>\n",
       "    <tr style=\"text-align: right;\">\n",
       "      <th></th>\n",
       "      <th>Gender</th>\n",
       "      <th>Height</th>\n",
       "      <th>Weight</th>\n",
       "      <th>Altura_cm</th>\n",
       "    </tr>\n",
       "  </thead>\n",
       "  <tbody>\n",
       "    <tr>\n",
       "      <th>0</th>\n",
       "      <td>Male</td>\n",
       "      <td>73.847017</td>\n",
       "      <td>241.893563</td>\n",
       "      <td>188.0</td>\n",
       "    </tr>\n",
       "    <tr>\n",
       "      <th>1</th>\n",
       "      <td>Male</td>\n",
       "      <td>68.781904</td>\n",
       "      <td>162.310473</td>\n",
       "      <td>175.0</td>\n",
       "    </tr>\n",
       "    <tr>\n",
       "      <th>2</th>\n",
       "      <td>Male</td>\n",
       "      <td>74.110105</td>\n",
       "      <td>212.740856</td>\n",
       "      <td>188.0</td>\n",
       "    </tr>\n",
       "    <tr>\n",
       "      <th>3</th>\n",
       "      <td>Male</td>\n",
       "      <td>71.730978</td>\n",
       "      <td>220.042470</td>\n",
       "      <td>182.0</td>\n",
       "    </tr>\n",
       "    <tr>\n",
       "      <th>4</th>\n",
       "      <td>Male</td>\n",
       "      <td>69.881796</td>\n",
       "      <td>206.349801</td>\n",
       "      <td>177.0</td>\n",
       "    </tr>\n",
       "  </tbody>\n",
       "</table>\n",
       "</div>"
      ],
      "text/plain": [
       "  Gender     Height      Weight  Altura_cm\n",
       "0   Male  73.847017  241.893563      188.0\n",
       "1   Male  68.781904  162.310473      175.0\n",
       "2   Male  74.110105  212.740856      188.0\n",
       "3   Male  71.730978  220.042470      182.0\n",
       "4   Male  69.881796  206.349801      177.0"
      ]
     },
     "execution_count": 52,
     "metadata": {},
     "output_type": "execute_result"
    }
   ],
   "source": [
    "data.head()"
   ]
  },
  {
   "cell_type": "markdown",
   "metadata": {},
   "source": [
    "## Avaliação das Alturas das Mulheres"
   ]
  },
  {
   "cell_type": "code",
   "execution_count": 68,
   "metadata": {},
   "outputs": [],
   "source": [
    "## selecionar a altura das mulheres\n",
    "DS_mulheres = data[data['Gender'] == \"Female\"][\"Altura_cm\"]"
   ]
  },
  {
   "cell_type": "code",
   "execution_count": 69,
   "metadata": {
    "scrolled": true
   },
   "outputs": [
    {
     "name": "stderr",
     "output_type": "stream",
     "text": [
      "C:\\Users\\Leonardo\\AppData\\Local\\Temp/ipykernel_2712/4050399821.py:13: UserWarning: FixedFormatter should only be used together with FixedLocator\n",
      "  ax.set_yticklabels(freq_rel) # Substituindo as y_labels pela frequencia relativa\n"
     ]
    },
    {
     "data": {
      "image/png": "[encoded data removed]",
      "text/plain": [
       "<Figure size 1500x750 with 1 Axes>"
      ]
     },
     "metadata": {
      "needs_background": "light"
     },
     "output_type": "display_data"
    }
   ],
   "source": [
    "gera_histograma(DS_mulheres, 9, \"Altura Mulheres\", \"cm\")"
   ]
  },
  {
   "cell_type": "code",
   "execution_count": 61,
   "metadata": {},
   "outputs": [],
   "source": [
    "# modulo python que faz algumas avaliações estatísticas\n",
    "import statistics as stats"
   ]
  },
  {
   "cell_type": "markdown",
   "metadata": {},
   "source": [
    "### Média"
   ]
  },
  {
   "cell_type": "markdown",
   "metadata": {},
   "source": [
    "Dada uma sequencia de valores, a média se dá pela soma de todos esses valores dividido pela quantidade de valores dessa sequência. "
   ]
  },
  {
   "cell_type": "code",
   "execution_count": 62,
   "metadata": {},
   "outputs": [
    {
     "data": {
      "text/plain": [
       "161.8112"
      ]
     },
     "execution_count": 62,
     "metadata": {},
     "output_type": "execute_result"
    }
   ],
   "source": [
    "stats.mean(DS_mulheres) # média das alturas das mulheres "
   ]
  },
  {
   "cell_type": "markdown",
   "metadata": {},
   "source": [
    "### Mediana"
   ]
  },
  {
   "cell_type": "markdown",
   "metadata": {},
   "source": [
    "Dada uma sequência de valores ordenados, a mediana é o valor central dessa sequencia de elementos. Se houverem dois valores centrais, a mediana se dá pela média desses dois valores."
   ]
  },
  {
   "cell_type": "code",
   "execution_count": 63,
   "metadata": {},
   "outputs": [
    {
     "data": {
      "text/plain": [
       "162.0"
      ]
     },
     "execution_count": 63,
     "metadata": {},
     "output_type": "execute_result"
    }
   ],
   "source": [
    "stats.median(DS_mulheres) # mediana"
   ]
  },
  {
   "cell_type": "markdown",
   "metadata": {},
   "source": [
    "### Moda"
   ]
  },
  {
   "cell_type": "markdown",
   "metadata": {},
   "source": [
    "Dada uma sequência de valores, a moda é o valor que mais se repete."
   ]
  },
  {
   "cell_type": "code",
   "execution_count": 64,
   "metadata": {},
   "outputs": [
    {
     "data": {
      "text/plain": [
       "162.0"
      ]
     },
     "execution_count": 64,
     "metadata": {},
     "output_type": "execute_result"
    }
   ],
   "source": [
    "stats.mode(DS_mulheres) # moda"
   ]
  },
  {
   "cell_type": "markdown",
   "metadata": {},
   "source": [
    "## Avaliação das alturas dos Homens"
   ]
  },
  {
   "cell_type": "code",
   "execution_count": 70,
   "metadata": {},
   "outputs": [],
   "source": [
    "## selecionar a altura dos homens\n",
    "DS_homens = data[data['Gender'] == \"Male\"][\"Altura_cm\"]"
   ]
  },
  {
   "cell_type": "code",
   "execution_count": 93,
   "metadata": {},
   "outputs": [
    {
     "name": "stderr",
     "output_type": "stream",
     "text": [
      "C:\\Users\\Leonardo\\AppData\\Local\\Temp/ipykernel_2712/4050399821.py:13: UserWarning: FixedFormatter should only be used together with FixedLocator\n",
      "  ax.set_yticklabels(freq_rel) # Substituindo as y_labels pela frequencia relativa\n"
     ]
    },
    {
     "data": {
      "image/png": "[encoded data removed]",
      "text/plain": [
       "<Figure size 1500x750 with 1 Axes>"
      ]
     },
     "metadata": {
      "needs_background": "light"
     },
     "output_type": "display_data"
    }
   ],
   "source": [
    "# histograma das alturas masculinas\n",
    "gera_histograma(DS_homens, 9, \"Altura Homens\", \"cm\")"
   ]
  },
  {
   "cell_type": "code",
   "execution_count": 73,
   "metadata": {},
   "outputs": [
    {
     "name": "stdout",
     "output_type": "stream",
     "text": [
      "Altura dos homens:\n",
      "Média:  175.327\n",
      "Mediana:  175.0\n",
      "Média:  175.0\n"
     ]
    }
   ],
   "source": [
    "## Média, moda e mediana\n",
    "print(\"Altura dos homens:\")\n",
    "print(\"Média: \", stats.mean(DS_homens))\n",
    "print(\"Mediana: \", stats.median(DS_homens))\n",
    "print(\"Média: \", stats.mode(DS_homens))"
   ]
  },
  {
   "cell_type": "markdown",
   "metadata": {},
   "source": [
    "### Variancia"
   ]
  },
  {
   "cell_type": "markdown",
   "metadata": {},
   "source": [
    "A variancia é o desvio dos dados em relação à média.\n",
    "<br>\n",
    "<img src=\"imagens/variancia-populacao.png\">\n",
    "<img src=\"imagens/variancia-amostra.png\">\n",
    "</br>"
   ]
  },
  {
   "cell_type": "markdown",
   "metadata": {},
   "source": [
    "### Desvio Padrão"
   ]
  },
  {
   "cell_type": "markdown",
   "metadata": {},
   "source": [
    "O desvio padrão se dá pela raiz quadrada do valor que obtivemos com o calculo da variância"
   ]
  },
  {
   "cell_type": "markdown",
   "metadata": {},
   "source": [
    "#### Calculo da Variancia"
   ]
  },
  {
   "cell_type": "code",
   "execution_count": 76,
   "metadata": {},
   "outputs": [],
   "source": [
    "# import statistics as stats\n",
    "def variancia_amostra(data_series):\n",
    "    media = stats.mean(data_series)\n",
    "\n",
    "    somatorio = 0\n",
    "    for item in data_series:\n",
    "        calc = (item - media)**2\n",
    "        somatorio = somatorio + calc\n",
    "\n",
    "    variancia = somatorio/(len(data_series)-1)\n",
    "    return variancia\n",
    "\n",
    "def desvio_padrao(variancia):\n",
    "    return (variancia)**(1/2)"
   ]
  },
  {
   "cell_type": "code",
   "execution_count": 78,
   "metadata": {},
   "outputs": [],
   "source": [
    "m_variancia = variancia_amostra(DS_mulheres) # variancia mulheres\n",
    "m_desvPadrao = desvio_padrao(m_variancia) # desvio padrão mulheres"
   ]
  },
  {
   "cell_type": "code",
   "execution_count": 81,
   "metadata": {},
   "outputs": [],
   "source": [
    "h_variancia = variancia_amostra(DS_homens) # variancia homens\n",
    "h_desvPadrao = desvio_padrao(h_variancia) # desvio padrão homens"
   ]
  },
  {
   "cell_type": "code",
   "execution_count": 84,
   "metadata": {},
   "outputs": [
    {
     "name": "stdout",
     "output_type": "stream",
     "text": [
      "Mulheres:\n",
      ">> Variancia: 46.93\n",
      ">> Desvio Padrão: 6.85\n",
      "\n",
      "Homens:\n",
      ">> Variancia: 53.10\n",
      ">> Desvio Padrão: 7.29\n"
     ]
    }
   ],
   "source": [
    "print(\"Mulheres:\")\n",
    "print(f\">> Variancia: {m_variancia:.2f}\")\n",
    "print(f\">> Desvio Padrão: {m_desvPadrao:.2f}\")\n",
    "\n",
    "print(\"\\nHomens:\")\n",
    "print(f\">> Variancia: {h_variancia:.2f}\")\n",
    "print(f\">> Desvio Padrão: {h_desvPadrao:.2f}\")"
   ]
  },
  {
   "cell_type": "code",
   "execution_count": 89,
   "metadata": {},
   "outputs": [],
   "source": [
    "# agora usando o modulo statistics\n",
    "#\n",
    "# Mulheres\n",
    "ms_variancia = stats.variance(DS_mulheres) # variancia mulheres\n",
    "ms_desvPadrao = stats.stdev(DS_mulheres) # desvio padrão mulheres\n",
    "\n",
    "# Homens \n",
    "hs_variancia = stats.variance(DS_homens) # variancia homens\n",
    "hs_desvPadrao = stats.stdev(DS_homens) # desvio padrão homens"
   ]
  },
  {
   "cell_type": "code",
   "execution_count": 90,
   "metadata": {},
   "outputs": [
    {
     "name": "stdout",
     "output_type": "stream",
     "text": [
      "Mulheres:\n",
      ">> Variancia: 46.93\n",
      ">> Desvio Padrão: 6.85\n",
      "\n",
      "Homens:\n",
      ">> Variancia: 53.10\n",
      ">> Desvio Padrão: 7.29\n"
     ]
    }
   ],
   "source": [
    "print(\"Mulheres:\")\n",
    "print(f\">> Variancia: {ms_variancia:.2f}\")\n",
    "print(f\">> Desvio Padrão: {ms_desvPadrao:.2f}\")\n",
    "\n",
    "print(\"\\nHomens:\")\n",
    "print(f\">> Variancia: {hs_variancia:.2f}\")\n",
    "print(f\">> Desvio Padrão: {hs_desvPadrao:.2f}\")"
   ]
  },
  {
   "cell_type": "markdown",
   "metadata": {},
   "source": [
    "## Coeficiente de Variação"
   ]
  },
  {
   "cell_type": "markdown",
   "metadata": {},
   "source": [
    "O coeficiente de variação é basicamente a divisão do valor do desvio padrão pelo valor da média. \n",
    "\n",
    "O coeficiente de varição é usado para expressar a variabilidade dos dados estatísticos excluindo a influência da ordem de grandeza da variável.\n",
    "Os estudos estatísticos estão relacionados às situações que envolvem estratégias e planejamentos, coleta e organização de dados, análise e interpretação clara e objetiva dos dados observados. Para comparação de dois ou mais conjuntos de dados, a estatística utiliza o desvio padrão, desde que esses dados estejam na mesma unidade de medida. Caso os conjuntos de dados sejam medidos em grandezas diferentes (unidades de medida diferentes), a comparação será feita utilizando o coeficiente de variação.\n",
    "\n",
    "O coeficiente de variação é usado para analisar a dispersão em termos relativos a seu valor médio quando duas ou mais séries de valores apresentam unidades de medida diferentes. Dessa forma, podemos dizer que o coeficiente de variação é uma forma de expressar a variabilidade dos dados excluindo a influência da ordem de grandeza da variável."
   ]
  },
  {
   "cell_type": "code",
   "execution_count": null,
   "metadata": {},
   "outputs": [],
   "source": []
  }
 ],
 "metadata": {
  "kernelspec": {
   "display_name": "Python 3 (ipykernel)",
   "language": "python",
   "name": "python3"
  },
  "language_info": {
   "codemirror_mode": {
    "name": "ipython",
    "version": 3
   },
   "file_extension": ".py",
   "mimetype": "text/x-python",
   "name": "python",
   "nbconvert_exporter": "python",
   "pygments_lexer": "ipython3",
   "version": "3.9.7"
  }
 },
 "nbformat": 4,
 "nbformat_minor": 2
}
