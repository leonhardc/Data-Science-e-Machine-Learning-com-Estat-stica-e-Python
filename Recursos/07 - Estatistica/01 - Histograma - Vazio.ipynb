{
 "cells": [
  {
   "cell_type": "markdown",
   "metadata": {},
   "source": [
    "### O que é um histograma?"
   ]
  },
  {
   "cell_type": "code",
   "execution_count": 1,
   "metadata": {},
   "outputs": [],
   "source": [
    "import pandas as pd\n",
    "import matplotlib.pyplot as plt"
   ]
  },
  {
   "cell_type": "code",
   "execution_count": 5,
   "metadata": {},
   "outputs": [],
   "source": [
    "km = pd.Series([4, 6, 6, 7, 11, 13, 18, 18, 21, 24, 26, 27, 35, 36, 36, 42, 43, 45, 49])"
   ]
  },
  {
   "cell_type": "code",
   "execution_count": 96,
   "metadata": {},
   "outputs": [],
   "source": [
    "def pct(x):\n",
    "    return \"{0:.2f}%\".format(x*100)"
   ]
  },
  {
   "cell_type": "code",
   "execution_count": 22,
   "metadata": {},
   "outputs": [],
   "source": [
    "def calcula_ticks(lista, barras):\n",
    "    \n",
    "    # lista[-1] --> Ultimo Valor da lista\n",
    "    # lista[0] --> Primeiro Valor da lista\n",
    "    # intervalo = (ult_val - pri_val)/barras\n",
    "    lista.sort()\n",
    "    intervalo = (lista[-1] - lista[0])/barras\n",
    "    \n",
    "    primeiro = lista[0]\n",
    "    ultimo = primeiro + intervalo\n",
    "    ticks = [primeiro, ultimo]\n",
    "    \n",
    "    for x in range(barras-1):\n",
    "        ultimo += intervalo\n",
    "        ticks.append(ultimo)\n",
    "    \n",
    "    return ticks"
   ]
  },
  {
   "cell_type": "code",
   "execution_count": 36,
   "metadata": {},
   "outputs": [],
   "source": [
    "# Calculo da frequencia relativa\n",
    "def freq_relativa(total, yticks):\n",
    "    f_rel = []\n",
    "    \n",
    "    for item in yticks:\n",
    "        aux = item/total\n",
    "        f_rel.append(\"{0:.2f}%\".format(aux*100)) # convertendo para valor\n",
    "                                                   # textual com duas casas \n",
    "                                                   # decimais\n",
    "    return f_rel"
   ]
  },
  {
   "cell_type": "code",
   "execution_count": 59,
   "metadata": {},
   "outputs": [],
   "source": [
    "def gera_histograma(data_series, barras, titulo, unidade):\n",
    "\n",
    "    # plotar o histograma\n",
    "    # barras --> quantidade de barras no histograma\n",
    "    lista = data_series.values\n",
    "\n",
    "    ticks = calcula_ticks(lista, barras) # ajustando o intervalo do eixo x\n",
    "    ax = data_series.plot.hist(bins=barras, rwidth=0.98) # plotando o histograma\n",
    "\n",
    "    # calcula a frequencia relativa\n",
    "    y_ticks = ax.get_yticks()\n",
    "    freq_rel = freq_relativa(len(lista), y_ticks)\n",
    "    ax.set_yticklabels(freq_rel) # Substituindo as y_labels pela frequencia relativa \n",
    "\n",
    "    # configurar o tamanho da figura\n",
    "    fig = plt.gcf()\n",
    "    fig.set_size_inches(10,5)\n",
    "    fig.set_dpi(150)\n",
    "    \n",
    "    # Ajustes no layout do histograma\n",
    "    plt.title(titulo)\n",
    "    plt.xticks(ticks) # sobrescrevendo os rótulos do eixo x\n",
    "    plt.xlabel(unidade)\n",
    "    plt.ylabel(\"Frequencia\")\n",
    "    plt.grid(axis=\"y\") # Colocar uma grid (Grade)\n",
    "    plt.show()\n",
    "    \n"
   ]
  },
  {
   "cell_type": "code",
   "execution_count": 43,
   "metadata": {},
   "outputs": [
    {
     "name": "stderr",
     "output_type": "stream",
     "text": [
      "C:\\Users\\Leonardo\\AppData\\Local\\Temp/ipykernel_2712/9946490.py:13: UserWarning: FixedFormatter should only be used together with FixedLocator\n",
      "  ax.set_yticklabels(freq_rel) # Substituindo as y_labels pela frequencia relativa\n"
     ]
    },
    {
     "data": {
      "image/png": "[encoded data removed]",
      "text/plain": [
       "<Figure size 432x288 with 1 Axes>"
      ]
     },
     "metadata": {
      "needs_background": "light"
     },
     "output_type": "display_data"
    }
   ],
   "source": [
    "gera_histograma(km, 6, \"Distância\", \"Km\")"
   ]
  },
  {
   "cell_type": "markdown",
   "metadata": {},
   "source": [
    "### Frequência relativa"
   ]
  },
  {
   "cell_type": "markdown",
   "metadata": {},
   "source": [
    "Frequencia relativa quer dizer basicamente o percentual de representatividade\n",
    "de cada uma das colunas."
   ]
  },
  {
   "cell_type": "code",
   "execution_count": 26,
   "metadata": {},
   "outputs": [
    {
     "name": "stdout",
     "output_type": "stream",
     "text": [
      "Frequencia Relativa 1: 26.32 %\n"
     ]
    }
   ],
   "source": [
    "# Para se obter a frequencia relativa basta pegar o valor associado a frequencia\n",
    "# de cada coluna e dividir pelo total de valores.\n",
    "\n",
    "# Por exemplo, a frequencia relativa referente à primeira coluna é:\n",
    "freq_rel_1 = (5/len(lista))* 100\n",
    "print(f'Frequencia Relativa 1: {freq_rel_1:.2f} %')"
   ]
  },
  {
   "cell_type": "code",
   "execution_count": 38,
   "metadata": {},
   "outputs": [
    {
     "data": {
      "text/plain": [
       "['0.00%', '5.26%', '10.53%', '15.79%', '21.05%', '26.32%', '31.58%']"
      ]
     },
     "execution_count": 38,
     "metadata": {},
     "output_type": "execute_result"
    }
   ],
   "source": [
    "freq_rel"
   ]
  },
  {
   "cell_type": "markdown",
   "metadata": {},
   "source": [
    "### Medidas de Dispersão"
   ]
  },
  {
   "cell_type": "code",
   "execution_count": 44,
   "metadata": {},
   "outputs": [],
   "source": [
    "import pandas as pd"
   ]
  },
  {
   "cell_type": "code",
   "execution_count": 45,
   "metadata": {},
   "outputs": [],
   "source": [
    "data = pd.read_csv(\"weight-height.csv\")"
   ]
  },
  {
   "cell_type": "code",
   "execution_count": 46,
   "metadata": {},
   "outputs": [
    {
     "data": {
      "text/html": [
       "<div>\n",
       "<style scoped>\n",
       "    .dataframe tbody tr th:only-of-type {\n",
       "        vertical-align: middle;\n",
       "    }\n",
       "\n",
       "    .dataframe tbody tr th {\n",
       "        vertical-align: top;\n",
       "    }\n",
       "\n",
       "    .dataframe thead th {\n",
       "        text-align: right;\n",
       "    }\n",
       "</style>\n",
       "<table border=\"1\" class=\"dataframe\">\n",
       "  <thead>\n",
       "    <tr style=\"text-align: right;\">\n",
       "      <th></th>\n",
       "      <th>Gender</th>\n",
       "      <th>Height</th>\n",
       "      <th>Weight</th>\n",
       "    </tr>\n",
       "  </thead>\n",
       "  <tbody>\n",
       "    <tr>\n",
       "      <th>0</th>\n",
       "      <td>Male</td>\n",
       "      <td>73.847017</td>\n",
       "      <td>241.893563</td>\n",
       "    </tr>\n",
       "    <tr>\n",
       "      <th>1</th>\n",
       "      <td>Male</td>\n",
       "      <td>68.781904</td>\n",
       "      <td>162.310473</td>\n",
       "    </tr>\n",
       "    <tr>\n",
       "      <th>2</th>\n",
       "      <td>Male</td>\n",
       "      <td>74.110105</td>\n",
       "      <td>212.740856</td>\n",
       "    </tr>\n",
       "    <tr>\n",
       "      <th>3</th>\n",
       "      <td>Male</td>\n",
       "      <td>71.730978</td>\n",
       "      <td>220.042470</td>\n",
       "    </tr>\n",
       "    <tr>\n",
       "      <th>4</th>\n",
       "      <td>Male</td>\n",
       "      <td>69.881796</td>\n",
       "      <td>206.349801</td>\n",
       "    </tr>\n",
       "  </tbody>\n",
       "</table>\n",
       "</div>"
      ],
      "text/plain": [
       "  Gender     Height      Weight\n",
       "0   Male  73.847017  241.893563\n",
       "1   Male  68.781904  162.310473\n",
       "2   Male  74.110105  212.740856\n",
       "3   Male  71.730978  220.042470\n",
       "4   Male  69.881796  206.349801"
      ]
     },
     "execution_count": 46,
     "metadata": {},
     "output_type": "execute_result"
    }
   ],
   "source": [
    "# Altura provavelmente está em polegadas\n",
    "# Para transformar polegadas em centimetros basta multiplicar por 2.54\n",
    "data.head() #"
   ]
  },
  {
   "cell_type": "code",
   "execution_count": 47,
   "metadata": {},
   "outputs": [],
   "source": [
    "data[\"Altura_cm\"] = data[\"Height\"]*2.54"
   ]
  },
  {
   "cell_type": "code",
   "execution_count": 98,
   "metadata": {},
   "outputs": [],
   "source": [
    "data[\"Peso_kg\"] = data[\"Weight\"]*0.453592"
   ]
  },
  {
   "cell_type": "code",
   "execution_count": 99,
   "metadata": {},
   "outputs": [
    {
     "data": {
      "text/html": [
       "<div>\n",
       "<style scoped>\n",
       "    .dataframe tbody tr th:only-of-type {\n",
       "        vertical-align: middle;\n",
       "    }\n",
       "\n",
       "    .dataframe tbody tr th {\n",
       "        vertical-align: top;\n",
       "    }\n",
       "\n",
       "    .dataframe thead th {\n",
       "        text-align: right;\n",
       "    }\n",
       "</style>\n",
       "<table border=\"1\" class=\"dataframe\">\n",
       "  <thead>\n",
       "    <tr style=\"text-align: right;\">\n",
       "      <th></th>\n",
       "      <th>Gender</th>\n",
       "      <th>Height</th>\n",
       "      <th>Weight</th>\n",
       "      <th>Altura_cm</th>\n",
       "      <th>Peso_kg</th>\n",
       "    </tr>\n",
       "  </thead>\n",
       "  <tbody>\n",
       "    <tr>\n",
       "      <th>0</th>\n",
       "      <td>Male</td>\n",
       "      <td>73.847017</td>\n",
       "      <td>241.893563</td>\n",
       "      <td>188.0</td>\n",
       "      <td>109.720985</td>\n",
       "    </tr>\n",
       "    <tr>\n",
       "      <th>1</th>\n",
       "      <td>Male</td>\n",
       "      <td>68.781904</td>\n",
       "      <td>162.310473</td>\n",
       "      <td>175.0</td>\n",
       "      <td>73.622732</td>\n",
       "    </tr>\n",
       "    <tr>\n",
       "      <th>2</th>\n",
       "      <td>Male</td>\n",
       "      <td>74.110105</td>\n",
       "      <td>212.740856</td>\n",
       "      <td>188.0</td>\n",
       "      <td>96.497550</td>\n",
       "    </tr>\n",
       "    <tr>\n",
       "      <th>3</th>\n",
       "      <td>Male</td>\n",
       "      <td>71.730978</td>\n",
       "      <td>220.042470</td>\n",
       "      <td>182.0</td>\n",
       "      <td>99.809504</td>\n",
       "    </tr>\n",
       "    <tr>\n",
       "      <th>4</th>\n",
       "      <td>Male</td>\n",
       "      <td>69.881796</td>\n",
       "      <td>206.349801</td>\n",
       "      <td>177.0</td>\n",
       "      <td>93.598619</td>\n",
       "    </tr>\n",
       "  </tbody>\n",
       "</table>\n",
       "</div>"
      ],
      "text/plain": [
       "  Gender     Height      Weight  Altura_cm     Peso_kg\n",
       "0   Male  73.847017  241.893563      188.0  109.720985\n",
       "1   Male  68.781904  162.310473      175.0   73.622732\n",
       "2   Male  74.110105  212.740856      188.0   96.497550\n",
       "3   Male  71.730978  220.042470      182.0   99.809504\n",
       "4   Male  69.881796  206.349801      177.0   93.598619"
      ]
     },
     "execution_count": 99,
     "metadata": {},
     "output_type": "execute_result"
    }
   ],
   "source": [
    "data.head()"
   ]
  },
  {
   "cell_type": "code",
   "execution_count": 51,
   "metadata": {},
   "outputs": [],
   "source": [
    "# arredondar a altura, para podermos calcular a moda de maneira mais interessante\n",
    "data[\"Altura_cm\"] = data[\"Altura_cm\"].round(0) # arredondar para 0 casas decimais"
   ]
  },
  {
   "cell_type": "code",
   "execution_count": 100,
   "metadata": {},
   "outputs": [],
   "source": [
    "# arredondar peso para uma casa decimal\n",
    "data[\"Peso_kg\"] = data[\"Peso_kg\"].round(1)"
   ]
  },
  {
   "cell_type": "code",
   "execution_count": 101,
   "metadata": {},
   "outputs": [
    {
     "data": {
      "text/html": [
       "<div>\n",
       "<style scoped>\n",
       "    .dataframe tbody tr th:only-of-type {\n",
       "        vertical-align: middle;\n",
       "    }\n",
       "\n",
       "    .dataframe tbody tr th {\n",
       "        vertical-align: top;\n",
       "    }\n",
       "\n",
       "    .dataframe thead th {\n",
       "        text-align: right;\n",
       "    }\n",
       "</style>\n",
       "<table border=\"1\" class=\"dataframe\">\n",
       "  <thead>\n",
       "    <tr style=\"text-align: right;\">\n",
       "      <th></th>\n",
       "      <th>Gender</th>\n",
       "      <th>Height</th>\n",
       "      <th>Weight</th>\n",
       "      <th>Altura_cm</th>\n",
       "      <th>Peso_kg</th>\n",
       "    </tr>\n",
       "  </thead>\n",
       "  <tbody>\n",
       "    <tr>\n",
       "      <th>0</th>\n",
       "      <td>Male</td>\n",
       "      <td>73.847017</td>\n",
       "      <td>241.893563</td>\n",
       "      <td>188.0</td>\n",
       "      <td>109.7</td>\n",
       "    </tr>\n",
       "    <tr>\n",
       "      <th>1</th>\n",
       "      <td>Male</td>\n",
       "      <td>68.781904</td>\n",
       "      <td>162.310473</td>\n",
       "      <td>175.0</td>\n",
       "      <td>73.6</td>\n",
       "    </tr>\n",
       "    <tr>\n",
       "      <th>2</th>\n",
       "      <td>Male</td>\n",
       "      <td>74.110105</td>\n",
       "      <td>212.740856</td>\n",
       "      <td>188.0</td>\n",
       "      <td>96.5</td>\n",
       "    </tr>\n",
       "    <tr>\n",
       "      <th>3</th>\n",
       "      <td>Male</td>\n",
       "      <td>71.730978</td>\n",
       "      <td>220.042470</td>\n",
       "      <td>182.0</td>\n",
       "      <td>99.8</td>\n",
       "    </tr>\n",
       "    <tr>\n",
       "      <th>4</th>\n",
       "      <td>Male</td>\n",
       "      <td>69.881796</td>\n",
       "      <td>206.349801</td>\n",
       "      <td>177.0</td>\n",
       "      <td>93.6</td>\n",
       "    </tr>\n",
       "  </tbody>\n",
       "</table>\n",
       "</div>"
      ],
      "text/plain": [
       "  Gender     Height      Weight  Altura_cm  Peso_kg\n",
       "0   Male  73.847017  241.893563      188.0    109.7\n",
       "1   Male  68.781904  162.310473      175.0     73.6\n",
       "2   Male  74.110105  212.740856      188.0     96.5\n",
       "3   Male  71.730978  220.042470      182.0     99.8\n",
       "4   Male  69.881796  206.349801      177.0     93.6"
      ]
     },
     "execution_count": 101,
     "metadata": {},
     "output_type": "execute_result"
    }
   ],
   "source": [
    "data.head()"
   ]
  },
  {
   "cell_type": "markdown",
   "metadata": {},
   "source": [
    "## Avaliação das Alturas das Mulheres"
   ]
  },
  {
   "cell_type": "code",
   "execution_count": 68,
   "metadata": {},
   "outputs": [],
   "source": [
    "## selecionar a altura das mulheres\n",
    "DS_mulheres = data[data['Gender'] == \"Female\"][\"Altura_cm\"]"
   ]
  },
  {
   "cell_type": "code",
   "execution_count": 69,
   "metadata": {
    "scrolled": true
   },
   "outputs": [
    {
     "name": "stderr",
     "output_type": "stream",
     "text": [
      "C:\\Users\\Leonardo\\AppData\\Local\\Temp/ipykernel_2712/4050399821.py:13: UserWarning: FixedFormatter should only be used together with FixedLocator\n",
      "  ax.set_yticklabels(freq_rel) # Substituindo as y_labels pela frequencia relativa\n"
     ]
    },
    {
     "data": {
      "image/png": "[encoded data removed]",
      "text/plain": [
       "<Figure size 1500x750 with 1 Axes>"
      ]
     },
     "metadata": {
      "needs_background": "light"
     },
     "output_type": "display_data"
    }
   ],
   "source": [
    "gera_histograma(DS_mulheres, 9, \"Altura Mulheres\", \"cm\")"
   ]
  },
  {
   "cell_type": "code",
   "execution_count": 61,
   "metadata": {},
   "outputs": [],
   "source": [
    "# modulo python que faz algumas avaliações estatísticas\n",
    "import statistics as stats"
   ]
  },
  {
   "cell_type": "markdown",
   "metadata": {},
   "source": [
    "### Média"
   ]
  },
  {
   "cell_type": "markdown",
   "metadata": {},
   "source": [
    "Dada uma sequencia de valores, a média se dá pela soma de todos esses valores dividido pela quantidade de valores dessa sequência. "
   ]
  },
  {
   "cell_type": "code",
   "execution_count": 62,
   "metadata": {},
   "outputs": [
    {
     "data": {
      "text/plain": [
       "161.8112"
      ]
     },
     "execution_count": 62,
     "metadata": {},
     "output_type": "execute_result"
    }
   ],
   "source": [
    "stats.mean(DS_mulheres) # média das alturas das mulheres "
   ]
  },
  {
   "cell_type": "markdown",
   "metadata": {},
   "source": [
    "### Mediana"
   ]
  },
  {
   "cell_type": "markdown",
   "metadata": {},
   "source": [
    "Dada uma sequência de valores ordenados, a mediana é o valor central dessa sequencia de elementos. Se houverem dois valores centrais, a mediana se dá pela média desses dois valores."
   ]
  },
  {
   "cell_type": "code",
   "execution_count": 63,
   "metadata": {},
   "outputs": [
    {
     "data": {
      "text/plain": [
       "162.0"
      ]
     },
     "execution_count": 63,
     "metadata": {},
     "output_type": "execute_result"
    }
   ],
   "source": [
    "stats.median(DS_mulheres) # mediana"
   ]
  },
  {
   "cell_type": "markdown",
   "metadata": {},
   "source": [
    "### Moda"
   ]
  },
  {
   "cell_type": "markdown",
   "metadata": {},
   "source": [
    "Dada uma sequência de valores, a moda é o valor que mais se repete."
   ]
  },
  {
   "cell_type": "code",
   "execution_count": 64,
   "metadata": {},
   "outputs": [
    {
     "data": {
      "text/plain": [
       "162.0"
      ]
     },
     "execution_count": 64,
     "metadata": {},
     "output_type": "execute_result"
    }
   ],
   "source": [
    "stats.mode(DS_mulheres) # moda"
   ]
  },
  {
   "cell_type": "markdown",
   "metadata": {},
   "source": [
    "## Avaliação das alturas dos Homens"
   ]
  },
  {
   "cell_type": "code",
   "execution_count": 70,
   "metadata": {},
   "outputs": [],
   "source": [
    "## selecionar a altura dos homens\n",
    "DS_homens = data[data['Gender'] == \"Male\"][\"Altura_cm\"]"
   ]
  },
  {
   "cell_type": "code",
   "execution_count": 93,
   "metadata": {},
   "outputs": [
    {
     "name": "stderr",
     "output_type": "stream",
     "text": [
      "C:\\Users\\Leonardo\\AppData\\Local\\Temp/ipykernel_2712/4050399821.py:13: UserWarning: FixedFormatter should only be used together with FixedLocator\n",
      "  ax.set_yticklabels(freq_rel) # Substituindo as y_labels pela frequencia relativa\n"
     ]
    },
    {
     "data": {
      "image/png": "[encoded data removed]",
      "text/plain": [
       "<Figure size 1500x750 with 1 Axes>"
      ]
     },
     "metadata": {
      "needs_background": "light"
     },
     "output_type": "display_data"
    }
   ],
   "source": [
    "# histograma das alturas masculinas\n",
    "gera_histograma(DS_homens, 9, \"Altura Homens\", \"cm\")"
   ]
  },
  {
   "cell_type": "code",
   "execution_count": 73,
   "metadata": {},
   "outputs": [
    {
     "name": "stdout",
     "output_type": "stream",
     "text": [
      "Altura dos homens:\n",
      "Média:  175.327\n",
      "Mediana:  175.0\n",
      "Média:  175.0\n"
     ]
    }
   ],
   "source": [
    "## Média, moda e mediana\n",
    "print(\"Altura dos homens:\")\n",
    "print(\"Média: \", stats.mean(DS_homens))\n",
    "print(\"Mediana: \", stats.median(DS_homens))\n",
    "print(\"Média: \", stats.mode(DS_homens))"
   ]
  },
  {
   "cell_type": "markdown",
   "metadata": {},
   "source": [
    "### Variancia"
   ]
  },
  {
   "cell_type": "markdown",
   "metadata": {},
   "source": [
    "A variancia é o desvio dos dados em relação à média.\n",
    "<br>\n",
    "<img src=\"imagens/variancia-populacao.png\">\n",
    "<img src=\"imagens/variancia-amostra.png\">\n",
    "</br>"
   ]
  },
  {
   "cell_type": "markdown",
   "metadata": {},
   "source": [
    "### Desvio Padrão"
   ]
  },
  {
   "cell_type": "markdown",
   "metadata": {},
   "source": [
    "O desvio padrão se dá pela raiz quadrada do valor que obtivemos com o calculo da variância"
   ]
  },
  {
   "cell_type": "markdown",
   "metadata": {},
   "source": [
    "#### Calculo da Variancia"
   ]
  },
  {
   "cell_type": "code",
   "execution_count": 76,
   "metadata": {},
   "outputs": [],
   "source": [
    "# import statistics as stats\n",
    "def variancia_amostra(data_series):\n",
    "    media = stats.mean(data_series)\n",
    "\n",
    "    somatorio = 0\n",
    "    for item in data_series:\n",
    "        calc = (item - media)**2\n",
    "        somatorio = somatorio + calc\n",
    "\n",
    "    variancia = somatorio/(len(data_series)-1)\n",
    "    return variancia\n",
    "\n",
    "def desvio_padrao(variancia):\n",
    "    return (variancia)**(1/2)"
   ]
  },
  {
   "cell_type": "code",
   "execution_count": 78,
   "metadata": {},
   "outputs": [],
   "source": [
    "m_variancia = variancia_amostra(DS_mulheres) # variancia mulheres\n",
    "m_desvPadrao = desvio_padrao(m_variancia) # desvio padrão mulheres"
   ]
  },
  {
   "cell_type": "code",
   "execution_count": 81,
   "metadata": {},
   "outputs": [],
   "source": [
    "h_variancia = variancia_amostra(DS_homens) # variancia homens\n",
    "h_desvPadrao = desvio_padrao(h_variancia) # desvio padrão homens"
   ]
  },
  {
   "cell_type": "code",
   "execution_count": 84,
   "metadata": {},
   "outputs": [
    {
     "name": "stdout",
     "output_type": "stream",
     "text": [
      "Mulheres:\n",
      ">> Variancia: 46.93\n",
      ">> Desvio Padrão: 6.85\n",
      "\n",
      "Homens:\n",
      ">> Variancia: 53.10\n",
      ">> Desvio Padrão: 7.29\n"
     ]
    }
   ],
   "source": [
    "print(\"Mulheres:\")\n",
    "print(f\">> Variancia: {m_variancia:.2f}\")\n",
    "print(f\">> Desvio Padrão: {m_desvPadrao:.2f}\")\n",
    "\n",
    "print(\"\\nHomens:\")\n",
    "print(f\">> Variancia: {h_variancia:.2f}\")\n",
    "print(f\">> Desvio Padrão: {h_desvPadrao:.2f}\")"
   ]
  },
  {
   "cell_type": "code",
   "execution_count": 89,
   "metadata": {},
   "outputs": [],
   "source": [
    "# agora usando o modulo statistics\n",
    "#\n",
    "# Mulheres\n",
    "ms_variancia = stats.variance(DS_mulheres) # variancia mulheres\n",
    "ms_desvPadrao = stats.stdev(DS_mulheres) # desvio padrão mulheres\n",
    "\n",
    "# Homens \n",
    "hs_variancia = stats.variance(DS_homens) # variancia homens\n",
    "hs_desvPadrao = stats.stdev(DS_homens) # desvio padrão homens"
   ]
  },
  {
   "cell_type": "code",
   "execution_count": 90,
   "metadata": {},
   "outputs": [
    {
     "name": "stdout",
     "output_type": "stream",
     "text": [
      "Mulheres:\n",
      ">> Variancia: 46.93\n",
      ">> Desvio Padrão: 6.85\n",
      "\n",
      "Homens:\n",
      ">> Variancia: 53.10\n",
      ">> Desvio Padrão: 7.29\n"
     ]
    }
   ],
   "source": [
    "print(\"Mulheres:\")\n",
    "print(f\">> Variancia: {ms_variancia:.2f}\")\n",
    "print(f\">> Desvio Padrão: {ms_desvPadrao:.2f}\")\n",
    "\n",
    "print(\"\\nHomens:\")\n",
    "print(f\">> Variancia: {hs_variancia:.2f}\")\n",
    "print(f\">> Desvio Padrão: {hs_desvPadrao:.2f}\")"
   ]
  },
  {
   "cell_type": "markdown",
   "metadata": {},
   "source": [
    "## Coeficiente de Variação"
   ]
  },
  {
   "cell_type": "markdown",
   "metadata": {},
   "source": [
    "O coeficiente de variação é basicamente a divisão do valor do desvio padrão pelo valor da média. \n",
    "\n",
    "O coeficiente de varição é usado para expressar a variabilidade dos dados estatísticos excluindo a influência da ordem de grandeza da variável.\n",
    "Os estudos estatísticos estão relacionados às situações que envolvem estratégias e planejamentos, coleta e organização de dados, análise e interpretação clara e objetiva dos dados observados. Para comparação de dois ou mais conjuntos de dados, a estatística utiliza o desvio padrão, desde que esses dados estejam na mesma unidade de medida. Caso os conjuntos de dados sejam medidos em grandezas diferentes (unidades de medida diferentes), a comparação será feita utilizando o coeficiente de variação.\n",
    "\n",
    "O coeficiente de variação é usado para analisar a dispersão em termos relativos a seu valor médio quando duas ou mais séries de valores apresentam unidades de medida diferentes. Dessa forma, podemos dizer que o coeficiente de variação é uma forma de expressar a variabilidade dos dados excluindo a influência da ordem de grandeza da variável."
   ]
  },
  {
   "cell_type": "code",
   "execution_count": 97,
   "metadata": {},
   "outputs": [
    {
     "name": "stdout",
     "output_type": "stream",
     "text": [
      "Coeficiente de Variancia (Mulheres):  4.23%\n",
      "Coeficiente de Variancia (Homens):  4.16%\n"
     ]
    }
   ],
   "source": [
    "media_altMulheres = stats.mean(DS_mulheres)\n",
    "media_altHomens = stats.mean(DS_homens)\n",
    "\n",
    "# PARA CALCULAR O COEFICIENTE DE VARIACAO CV VAMOS FAZER:\n",
    "cv_alturaMulheres = ms_desvPadrao/media_altMulheres\n",
    "cv_alturaHomens = hs_desvPadrao/media_altHomens\n",
    "\n",
    "print(\"Coeficiente de Variancia (Mulheres): \", pct(cv_alturaMulheres))\n",
    "print(\"Coeficiente de Variancia (Homens): \", pct(cv_alturaHomens))"
   ]
  },
  {
   "cell_type": "markdown",
   "metadata": {},
   "source": [
    "### Avaliação do peso dos Homens e das mulheres"
   ]
  },
  {
   "cell_type": "code",
   "execution_count": 102,
   "metadata": {},
   "outputs": [
    {
     "data": {
      "text/html": [
       "<div>\n",
       "<style scoped>\n",
       "    .dataframe tbody tr th:only-of-type {\n",
       "        vertical-align: middle;\n",
       "    }\n",
       "\n",
       "    .dataframe tbody tr th {\n",
       "        vertical-align: top;\n",
       "    }\n",
       "\n",
       "    .dataframe thead th {\n",
       "        text-align: right;\n",
       "    }\n",
       "</style>\n",
       "<table border=\"1\" class=\"dataframe\">\n",
       "  <thead>\n",
       "    <tr style=\"text-align: right;\">\n",
       "      <th></th>\n",
       "      <th>Gender</th>\n",
       "      <th>Height</th>\n",
       "      <th>Weight</th>\n",
       "      <th>Altura_cm</th>\n",
       "      <th>Peso_kg</th>\n",
       "    </tr>\n",
       "  </thead>\n",
       "  <tbody>\n",
       "    <tr>\n",
       "      <th>0</th>\n",
       "      <td>Male</td>\n",
       "      <td>73.847017</td>\n",
       "      <td>241.893563</td>\n",
       "      <td>188.0</td>\n",
       "      <td>109.7</td>\n",
       "    </tr>\n",
       "    <tr>\n",
       "      <th>1</th>\n",
       "      <td>Male</td>\n",
       "      <td>68.781904</td>\n",
       "      <td>162.310473</td>\n",
       "      <td>175.0</td>\n",
       "      <td>73.6</td>\n",
       "    </tr>\n",
       "    <tr>\n",
       "      <th>2</th>\n",
       "      <td>Male</td>\n",
       "      <td>74.110105</td>\n",
       "      <td>212.740856</td>\n",
       "      <td>188.0</td>\n",
       "      <td>96.5</td>\n",
       "    </tr>\n",
       "    <tr>\n",
       "      <th>3</th>\n",
       "      <td>Male</td>\n",
       "      <td>71.730978</td>\n",
       "      <td>220.042470</td>\n",
       "      <td>182.0</td>\n",
       "      <td>99.8</td>\n",
       "    </tr>\n",
       "    <tr>\n",
       "      <th>4</th>\n",
       "      <td>Male</td>\n",
       "      <td>69.881796</td>\n",
       "      <td>206.349801</td>\n",
       "      <td>177.0</td>\n",
       "      <td>93.6</td>\n",
       "    </tr>\n",
       "  </tbody>\n",
       "</table>\n",
       "</div>"
      ],
      "text/plain": [
       "  Gender     Height      Weight  Altura_cm  Peso_kg\n",
       "0   Male  73.847017  241.893563      188.0    109.7\n",
       "1   Male  68.781904  162.310473      175.0     73.6\n",
       "2   Male  74.110105  212.740856      188.0     96.5\n",
       "3   Male  71.730978  220.042470      182.0     99.8\n",
       "4   Male  69.881796  206.349801      177.0     93.6"
      ]
     },
     "execution_count": 102,
     "metadata": {},
     "output_type": "execute_result"
    }
   ],
   "source": [
    "data.head()"
   ]
  },
  {
   "cell_type": "code",
   "execution_count": 105,
   "metadata": {},
   "outputs": [],
   "source": [
    "# selecionar DataSeries dos pesos de cada sexo\n",
    "peso_mulheres = data.loc[data[\"Gender\"]==\"Female\"][\"Peso_kg\"]\n",
    "peso_homens = data.loc[data[\"Gender\"]==\"Male\"][\"Peso_kg\"]"
   ]
  },
  {
   "cell_type": "code",
   "execution_count": 107,
   "metadata": {},
   "outputs": [
    {
     "name": "stderr",
     "output_type": "stream",
     "text": [
      "C:\\Users\\Leonardo\\AppData\\Local\\Temp/ipykernel_2712/4050399821.py:13: UserWarning: FixedFormatter should only be used together with FixedLocator\n",
      "  ax.set_yticklabels(freq_rel) # Substituindo as y_labels pela frequencia relativa\n"
     ]
    },
    {
     "data": {
      "image/png": "[encoded data removed]",
      "text/plain": [
       "<Figure size 1500x750 with 1 Axes>"
      ]
     },
     "metadata": {
      "needs_background": "light"
     },
     "output_type": "display_data"
    }
   ],
   "source": [
    "# histograma do peso das mulheres\n",
    "gera_histograma(peso_mulheres, 9, \"Peso - Mulheres\", \"kg\")"
   ]
  },
  {
   "cell_type": "code",
   "execution_count": 108,
   "metadata": {},
   "outputs": [
    {
     "name": "stderr",
     "output_type": "stream",
     "text": [
      "C:\\Users\\Leonardo\\AppData\\Local\\Temp/ipykernel_2712/4050399821.py:13: UserWarning: FixedFormatter should only be used together with FixedLocator\n",
      "  ax.set_yticklabels(freq_rel) # Substituindo as y_labels pela frequencia relativa\n"
     ]
    },
    {
     "data": {
      "image/png": "[encoded data removed]",
      "text/plain": [
       "<Figure size 1500x750 with 1 Axes>"
      ]
     },
     "metadata": {
      "needs_background": "light"
     },
     "output_type": "display_data"
    }
   ],
   "source": [
    "# histograma do peso das homens\n",
    "gera_histograma(peso_homens, 9, \"Peso - Homens\", \"kg\")"
   ]
  },
  {
   "cell_type": "code",
   "execution_count": 109,
   "metadata": {},
   "outputs": [],
   "source": [
    "# variancia, desvio padrão e coeficiente de variação Mulheres\n",
    "# import statistics as stats\n",
    "var_pesoMulheres = stats.variance(peso_mulheres) # variancia\n",
    "desvPad_pesoMulheres = stats.stdev(peso_mulheres) # desvio padrão\n",
    "cv_pesoMulheres = desvPad_pesoMulheres/stats.mean(peso_mulheres) # coeficiente \n",
    "                                                                # de variação"
   ]
  },
  {
   "cell_type": "code",
   "execution_count": 110,
   "metadata": {},
   "outputs": [],
   "source": [
    "# variancia, desvio padrão e coeficiente de variação Homens\n",
    "# import statistics as stats\n",
    "var_pesoHomens = stats.variance(peso_homens) # variancia\n",
    "desvPad_pesoHomens = stats.stdev(peso_homens) # desvio padrão\n",
    "cv_pesoHomens = desvPad_pesoMulheres/stats.mean(peso_homens) # coeficiente \n",
    "                                                                # de variação"
   ]
  },
  {
   "cell_type": "code",
   "execution_count": 120,
   "metadata": {},
   "outputs": [
    {
     "name": "stdout",
     "output_type": "stream",
     "text": [
      "Homens:\n",
      ">> Variancia: 80.50\n",
      ">> Desvio Padrão: 8.97\n",
      ">> Coeficiente de Variação: 10.17%\n",
      "\n",
      "Mulheres:\n",
      ">> Variancia: 74.46\n",
      ">> Desvio Padrão: 8.63\n",
      ">> Coeficiente de Variação: 14.00%\n"
     ]
    }
   ],
   "source": [
    "print(\"Homens:\")\n",
    "print(\">> Variancia: {:.2f}\".format(var_pesoHomens))\n",
    "print(\">> Desvio Padrão: {:.2f}\".format(desvPad_pesoHomens))\n",
    "print(\">> Coeficiente de Variação:\", pct(cv_pesoHomens))\n",
    "\n",
    "print(\"\\nMulheres:\")\n",
    "print(\">> Variancia: {:.2f}\".format(var_pesoMulheres))\n",
    "print(\">> Desvio Padrão: {:.2f}\".format(desvPad_pesoMulheres))\n",
    "print(\">> Coeficiente de Variação:\", pct(cv_pesoMulheres))"
   ]
  },
  {
   "cell_type": "code",
   "execution_count": 121,
   "metadata": {},
   "outputs": [],
   "source": [
    "dados = {\"Homens\": {\n",
    "          \"CV_Altura\":pct(cv_alturaHomens), \n",
    "          \"CV_Peso\": pct(cv_pesoHomens)\n",
    "         },\n",
    "         \"Mulheres\": {\n",
    "             \"CV_Altura\":pct(cv_alturaMulheres),\n",
    "             \"CV_Peso\": pct(cv_pesoMulheres)\n",
    "         }}"
   ]
  },
  {
   "cell_type": "code",
   "execution_count": 122,
   "metadata": {},
   "outputs": [
    {
     "data": {
      "text/plain": [
       "{'Homens': {'CV_Altura': '4.16%', 'CV_Peso': '10.17%'},\n",
       " 'Mulheres': {'CV_Altura': '4.23%', 'CV_Peso': '14.00%'}}"
      ]
     },
     "execution_count": 122,
     "metadata": {},
     "output_type": "execute_result"
    }
   ],
   "source": [
    "dados "
   ]
  },
  {
   "cell_type": "code",
   "execution_count": 123,
   "metadata": {},
   "outputs": [],
   "source": [
    "cv_data = pd.DataFrame.from_dict(dados)"
   ]
  },
  {
   "cell_type": "code",
   "execution_count": 124,
   "metadata": {},
   "outputs": [
    {
     "data": {
      "text/html": [
       "<div>\n",
       "<style scoped>\n",
       "    .dataframe tbody tr th:only-of-type {\n",
       "        vertical-align: middle;\n",
       "    }\n",
       "\n",
       "    .dataframe tbody tr th {\n",
       "        vertical-align: top;\n",
       "    }\n",
       "\n",
       "    .dataframe thead th {\n",
       "        text-align: right;\n",
       "    }\n",
       "</style>\n",
       "<table border=\"1\" class=\"dataframe\">\n",
       "  <thead>\n",
       "    <tr style=\"text-align: right;\">\n",
       "      <th></th>\n",
       "      <th>Homens</th>\n",
       "      <th>Mulheres</th>\n",
       "    </tr>\n",
       "  </thead>\n",
       "  <tbody>\n",
       "    <tr>\n",
       "      <th>CV_Altura</th>\n",
       "      <td>4.16%</td>\n",
       "      <td>4.23%</td>\n",
       "    </tr>\n",
       "    <tr>\n",
       "      <th>CV_Peso</th>\n",
       "      <td>10.17%</td>\n",
       "      <td>14.00%</td>\n",
       "    </tr>\n",
       "  </tbody>\n",
       "</table>\n",
       "</div>"
      ],
      "text/plain": [
       "           Homens Mulheres\n",
       "CV_Altura   4.16%    4.23%\n",
       "CV_Peso    10.17%   14.00%"
      ]
     },
     "execution_count": 124,
     "metadata": {},
     "output_type": "execute_result"
    }
   ],
   "source": [
    "cv_data.head()"
   ]
  },
  {
   "cell_type": "markdown",
   "metadata": {},
   "source": [
    "### Covariancia"
   ]
  },
  {
   "cell_type": "code",
   "execution_count": 142,
   "metadata": {},
   "outputs": [],
   "source": [
    "def covariancia(X, Y):\n",
    "    if len(X) != len(Y):\n",
    "        return\n",
    "    \n",
    "    media_x = stats.mean(X)\n",
    "    media_y = stats.mean(Y)\n",
    "    \n",
    "    somatorio = 0    \n",
    "    for x,y in zip(X,Y):\n",
    "        calc = (x - media_x)*(y - media_y)\n",
    "        somatorio += calc\n",
    "    \n",
    "    covariancia = somatorio/(len(X)-1) # ou len(Y)\n",
    "    return covariancia\n",
    "\n",
    "\n",
    "def coef_correlacao(X, Y):\n",
    "    # import statistcs as stats\n",
    "    cov = covariancia(X, Y)\n",
    "    \n",
    "    desvPadrao_x = stats.stdev(X)\n",
    "    desvPadrao_y = stats.stdev(Y)\n",
    "    \n",
    "    coef_correlacao = cov/(desvPadrao_x*desvPadrao_y)\n",
    "    return coef_correlacao"
   ]
  },
  {
   "cell_type": "code",
   "execution_count": 126,
   "metadata": {},
   "outputs": [
    {
     "data": {
      "text/html": [
       "<div>\n",
       "<style scoped>\n",
       "    .dataframe tbody tr th:only-of-type {\n",
       "        vertical-align: middle;\n",
       "    }\n",
       "\n",
       "    .dataframe tbody tr th {\n",
       "        vertical-align: top;\n",
       "    }\n",
       "\n",
       "    .dataframe thead th {\n",
       "        text-align: right;\n",
       "    }\n",
       "</style>\n",
       "<table border=\"1\" class=\"dataframe\">\n",
       "  <thead>\n",
       "    <tr style=\"text-align: right;\">\n",
       "      <th></th>\n",
       "      <th>Gender</th>\n",
       "      <th>Height</th>\n",
       "      <th>Weight</th>\n",
       "      <th>Altura_cm</th>\n",
       "      <th>Peso_kg</th>\n",
       "    </tr>\n",
       "  </thead>\n",
       "  <tbody>\n",
       "    <tr>\n",
       "      <th>0</th>\n",
       "      <td>Male</td>\n",
       "      <td>73.847017</td>\n",
       "      <td>241.893563</td>\n",
       "      <td>188.0</td>\n",
       "      <td>109.7</td>\n",
       "    </tr>\n",
       "    <tr>\n",
       "      <th>1</th>\n",
       "      <td>Male</td>\n",
       "      <td>68.781904</td>\n",
       "      <td>162.310473</td>\n",
       "      <td>175.0</td>\n",
       "      <td>73.6</td>\n",
       "    </tr>\n",
       "    <tr>\n",
       "      <th>2</th>\n",
       "      <td>Male</td>\n",
       "      <td>74.110105</td>\n",
       "      <td>212.740856</td>\n",
       "      <td>188.0</td>\n",
       "      <td>96.5</td>\n",
       "    </tr>\n",
       "    <tr>\n",
       "      <th>3</th>\n",
       "      <td>Male</td>\n",
       "      <td>71.730978</td>\n",
       "      <td>220.042470</td>\n",
       "      <td>182.0</td>\n",
       "      <td>99.8</td>\n",
       "    </tr>\n",
       "    <tr>\n",
       "      <th>4</th>\n",
       "      <td>Male</td>\n",
       "      <td>69.881796</td>\n",
       "      <td>206.349801</td>\n",
       "      <td>177.0</td>\n",
       "      <td>93.6</td>\n",
       "    </tr>\n",
       "  </tbody>\n",
       "</table>\n",
       "</div>"
      ],
      "text/plain": [
       "  Gender     Height      Weight  Altura_cm  Peso_kg\n",
       "0   Male  73.847017  241.893563      188.0    109.7\n",
       "1   Male  68.781904  162.310473      175.0     73.6\n",
       "2   Male  74.110105  212.740856      188.0     96.5\n",
       "3   Male  71.730978  220.042470      182.0     99.8\n",
       "4   Male  69.881796  206.349801      177.0     93.6"
      ]
     },
     "execution_count": 126,
     "metadata": {},
     "output_type": "execute_result"
    }
   ],
   "source": [
    "data.head()"
   ]
  },
  {
   "cell_type": "code",
   "execution_count": 130,
   "metadata": {},
   "outputs": [],
   "source": [
    "altura_mulheres = data.loc[data['Gender'] == 'Female']['Altura_cm'] \n",
    "peso_mulheres =  data.loc[data['Gender'] == 'Female']['Peso_kg'] \n",
    "\n",
    "altura_homens = data.loc[data['Gender'] == 'Male']['Altura_cm'] \n",
    "peso_homens = data.loc[data['Gender'] == 'Male']['Peso_kg']"
   ]
  },
  {
   "cell_type": "code",
   "execution_count": 140,
   "metadata": {},
   "outputs": [
    {
     "data": {
      "text/plain": [
       "-1.5629749949990066"
      ]
     },
     "execution_count": 140,
     "metadata": {},
     "output_type": "execute_result"
    }
   ],
   "source": [
    "covariancia(altura_mulheres, altura_homens)"
   ]
  },
  {
   "cell_type": "code",
   "execution_count": 141,
   "metadata": {},
   "outputs": [
    {
     "data": {
      "text/plain": [
       "-1.5149151590317995"
      ]
     },
     "execution_count": 141,
     "metadata": {},
     "output_type": "execute_result"
    }
   ],
   "source": [
    "covariancia(peso_mulheres, peso_homens)"
   ]
  },
  {
   "cell_type": "code",
   "execution_count": 153,
   "metadata": {},
   "outputs": [
    {
     "data": {
      "text/plain": [
       "'86.25%'"
      ]
     },
     "execution_count": 153,
     "metadata": {},
     "output_type": "execute_result"
    }
   ],
   "source": [
    "pct(coef_correlacao(altura_homens, peso_homens))"
   ]
  },
  {
   "cell_type": "code",
   "execution_count": 154,
   "metadata": {},
   "outputs": [
    {
     "data": {
      "text/plain": [
       "'84.90%'"
      ]
     },
     "execution_count": 154,
     "metadata": {},
     "output_type": "execute_result"
    }
   ],
   "source": [
    "pct(coef_correlacao(altura_mulheres, peso_mulheres))"
   ]
  },
  {
   "cell_type": "code",
   "execution_count": 149,
   "metadata": {},
   "outputs": [
    {
     "data": {
      "text/html": [
       "<div>\n",
       "<style scoped>\n",
       "    .dataframe tbody tr th:only-of-type {\n",
       "        vertical-align: middle;\n",
       "    }\n",
       "\n",
       "    .dataframe tbody tr th {\n",
       "        vertical-align: top;\n",
       "    }\n",
       "\n",
       "    .dataframe thead th {\n",
       "        text-align: right;\n",
       "    }\n",
       "</style>\n",
       "<table border=\"1\" class=\"dataframe\">\n",
       "  <thead>\n",
       "    <tr style=\"text-align: right;\">\n",
       "      <th></th>\n",
       "      <th>Altura_cm</th>\n",
       "      <th>Peso_kg</th>\n",
       "    </tr>\n",
       "  </thead>\n",
       "  <tbody>\n",
       "    <tr>\n",
       "      <th>5000</th>\n",
       "      <td>150.0</td>\n",
       "      <td>46.3</td>\n",
       "    </tr>\n",
       "    <tr>\n",
       "      <th>5001</th>\n",
       "      <td>166.0</td>\n",
       "      <td>64.1</td>\n",
       "    </tr>\n",
       "    <tr>\n",
       "      <th>5002</th>\n",
       "      <td>161.0</td>\n",
       "      <td>59.4</td>\n",
       "    </tr>\n",
       "    <tr>\n",
       "      <th>5003</th>\n",
       "      <td>164.0</td>\n",
       "      <td>58.1</td>\n",
       "    </tr>\n",
       "    <tr>\n",
       "      <th>5004</th>\n",
       "      <td>157.0</td>\n",
       "      <td>58.9</td>\n",
       "    </tr>\n",
       "  </tbody>\n",
       "</table>\n",
       "</div>"
      ],
      "text/plain": [
       "      Altura_cm  Peso_kg\n",
       "5000      150.0     46.3\n",
       "5001      166.0     64.1\n",
       "5002      161.0     59.4\n",
       "5003      164.0     58.1\n",
       "5004      157.0     58.9"
      ]
     },
     "execution_count": 149,
     "metadata": {},
     "output_type": "execute_result"
    }
   ],
   "source": [
    "# calculando correlação com o pandas\n",
    "dataMulheres = data.loc[data['Gender'] == 'Female'][['Altura_cm', 'Peso_kg']]\n",
    "dataMulheres.head()"
   ]
  },
  {
   "cell_type": "code",
   "execution_count": 150,
   "metadata": {},
   "outputs": [
    {
     "data": {
      "text/html": [
       "<div>\n",
       "<style scoped>\n",
       "    .dataframe tbody tr th:only-of-type {\n",
       "        vertical-align: middle;\n",
       "    }\n",
       "\n",
       "    .dataframe tbody tr th {\n",
       "        vertical-align: top;\n",
       "    }\n",
       "\n",
       "    .dataframe thead th {\n",
       "        text-align: right;\n",
       "    }\n",
       "</style>\n",
       "<table border=\"1\" class=\"dataframe\">\n",
       "  <thead>\n",
       "    <tr style=\"text-align: right;\">\n",
       "      <th></th>\n",
       "      <th>Altura_cm</th>\n",
       "      <th>Peso_kg</th>\n",
       "    </tr>\n",
       "  </thead>\n",
       "  <tbody>\n",
       "    <tr>\n",
       "      <th>Altura_cm</th>\n",
       "      <td>1.00000</td>\n",
       "      <td>0.84897</td>\n",
       "    </tr>\n",
       "    <tr>\n",
       "      <th>Peso_kg</th>\n",
       "      <td>0.84897</td>\n",
       "      <td>1.00000</td>\n",
       "    </tr>\n",
       "  </tbody>\n",
       "</table>\n",
       "</div>"
      ],
      "text/plain": [
       "           Altura_cm  Peso_kg\n",
       "Altura_cm    1.00000  0.84897\n",
       "Peso_kg      0.84897  1.00000"
      ]
     },
     "execution_count": 150,
     "metadata": {},
     "output_type": "execute_result"
    }
   ],
   "source": [
    "dataMulheres.corr()"
   ]
  },
  {
   "cell_type": "code",
   "execution_count": 158,
   "metadata": {},
   "outputs": [
    {
     "data": {
      "image/png": "[encoded data removed]",
      "text/plain": [
       "<Figure size 432x288 with 1 Axes>"
      ]
     },
     "metadata": {
      "needs_background": "light"
     },
     "output_type": "display_data"
    }
   ],
   "source": [
    "plt.scatter(dataMulheres[\"Altura_cm\"], dataMulheres[\"Peso_kg\"])\n",
    "\n",
    "plt.title(\"Altura X Peso - Mulheres\")\n",
    "plt.xlabel('Altura')\n",
    "plt.ylabel('Peso')\n",
    "plt.show()"
   ]
  },
  {
   "cell_type": "code",
   "execution_count": null,
   "metadata": {},
   "outputs": [],
   "source": []
  }
 ],
 "metadata": {
  "kernelspec": {
   "display_name": "Python 3 (ipykernel)",
   "language": "python",
   "name": "python3"
  },
  "language_info": {
   "codemirror_mode": {
    "name": "ipython",
    "version": 3
   },
   "file_extension": ".py",
   "mimetype": "text/x-python",
   "name": "python",
   "nbconvert_exporter": "python",
   "pygments_lexer": "ipython3",
   "version": "3.9.7"
  }
 },
 "nbformat": 4,
 "nbformat_minor": 2
}
